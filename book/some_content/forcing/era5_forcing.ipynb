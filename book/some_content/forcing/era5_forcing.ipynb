{
 "cells": [
  {
   "metadata": {},
   "cell_type": "markdown",
   "source": [
    "# Generate ERA5 forcing\n",
    "\n",
    "This will consist of two parts: using a shapefile from Caravan and using your own shapefile!\n",
    "\n",
    "\n"
   ],
   "id": "778e4b83cdbb46a1"
  },
  {
   "metadata": {},
   "cell_type": "markdown",
   "source": [
    "## Caravan Shapefile\n",
    "\n",
    "in eWaterCycle we provide access to the Caravan dataset, which contains all of the above data for all the catchments in the different Camels datasets. However, for two reasons, we don't use the rainfall and potential evaporation data from Caravan\n",
    "\n",
    "1. This allows us to demonstrate how to generate forcing data for any model from ERA5 (working on ERA5Land) and from CMIP data\n",
    "2. There is a known problem with the caravan evaporation data and we want to avoid using it here.\n",
    "\n",
    "We thus only use the Caravan dataset to retrieve\n",
    "\n",
    "- a shapefile of the region of interest, to be used as input for generating the forcing from ERA5\n",
    "- the observational data of river discharge\n",
    "\n",
    "Using the interactive maps at [eWaterCycle caravan map](https://www.ewatercycle.org/caravan-map/) one can easily retrieve the identifier of the catchment."
   ],
   "id": "659e4e1a01ba12fc"
  },
  {
   "metadata": {},
   "cell_type": "markdown",
   "source": "",
   "id": "a76791c8f95d3879"
  }
 ],
 "metadata": {
  "kernelspec": {
   "display_name": "Python 3",
   "language": "python",
   "name": "python3"
  },
  "language_info": {
   "codemirror_mode": {
    "name": "ipython",
    "version": 2
   },
   "file_extension": ".py",
   "mimetype": "text/x-python",
   "name": "python",
   "nbconvert_exporter": "python",
   "pygments_lexer": "ipython2",
   "version": "2.7.6"
  }
 },
 "nbformat": 4,
 "nbformat_minor": 5
}
