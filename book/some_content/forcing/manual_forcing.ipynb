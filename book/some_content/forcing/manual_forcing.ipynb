{
 "cells": [
  {
   "metadata": {},
   "cell_type": "markdown",
   "source": [
    "# Manual Forcing\n",
    "\n",
    "Creating your own forcing object is also a possibility.\n",
    "This does mean that you need to have your forcing data uploaded in netCDF format!\n",
    "So the total needs for making your own forcing object:\n",
    "- shapefile, and the accompanying files\n",
    "- time-window\n",
    "- directory, path where you want to save to\n",
    "- forcing, a dictionary filled with your forcings\n"
   ],
   "id": "8c0d98077166b5bb"
  },
  {
   "metadata": {},
   "cell_type": "code",
   "outputs": [],
   "execution_count": null,
   "source": [
    "# Ignore user warnings :)\n",
    "import warnings\n",
    "warnings.filterwarnings(\"ignore\", category=UserWarning)\n",
    "\n",
    "import numpy as np\n",
    "import matplotlib.pyplot as plt\n",
    "import pandas as pd\n",
    "from pathlib import Path\n",
    "import os\n",
    "import xarray as xr\n",
    "import rich\n",
    "\n",
    "# General eWaterCycle\n",
    "import ewatercycle\n",
    "import ewatercycle.forcing"
   ],
   "id": "1294fac4d260adc8"
  },
  {
   "metadata": {},
   "cell_type": "markdown",
   "source": [
    "## Forcing Dictionary\n",
    "\n",
    "To use your own forcing in eWaterCycle you need to put the paths that lead to the netCDF files in a dictionary"
   ],
   "id": "8063cbee1ceebb2d"
  },
  {
   "metadata": {},
   "cell_type": "code",
   "outputs": [],
   "execution_count": null,
   "source": [
    "# The path to the directory you saved your netCDF files for the forcing\n",
    "path_to_netCDF = Path.home() / \"some_path_to_directory\"\n",
    "\n",
    "forcing_dictionary = dict()\n",
    "forcing_dictionary[\"pr\"] = str(path_to_netCDF / \"pr.nc\")\n",
    "forcing_dictionary[\"rsds\"] = str(path_to_netCDF / \"rsds.nc\")\n",
    "forcing_dictionary[\"tas\"] = str(path_to_netCDF / \"tas.nc\")\n",
    "forcing_dictionary[\"evspsblpot\"] = str(path_to_netCDF / \"evspsblpot.nc\")"
   ],
   "id": "e61eaa70cacdc784"
  },
  {
   "metadata": {},
   "cell_type": "markdown",
   "source": [
    "Reminder dictionary:\n",
    "- key: value\n",
    "- ``dict[key] = value ``\n",
    "\n",
    "Note that the key in the dictionary has to be \"pr\" in this case, because now we want to make a LumpedMakkinkForcing object, which uses pr for precipitation etc.\n"
   ],
   "id": "c5781fc5ca0cdd47"
  },
  {
   "metadata": {},
   "cell_type": "markdown",
   "source": "### Making the forcing object",
   "id": "e7022b2a5f93582e"
  },
  {
   "metadata": {},
   "cell_type": "code",
   "outputs": [],
   "execution_count": null,
   "source": [
    "forcing = ewatercycle.forcing.sources[\"LumpedMakkinkForcing\"](\n",
    "    directory=path_to_save,\n",
    "    start_time=start_date,\n",
    "    end_time=end_date,\n",
    "    shape=shape_file,\n",
    "    filenames=forcing_dictionary,\n",
    ")"
   ],
   "id": "c03f8b7d33f518e3"
  },
  {
   "metadata": {},
   "cell_type": "code",
   "outputs": [],
   "execution_count": null,
   "source": "",
   "id": "5a1da2b275f71729"
  }
 ],
 "metadata": {
  "kernelspec": {
   "display_name": "Python 3",
   "language": "python",
   "name": "python3"
  },
  "language_info": {
   "codemirror_mode": {
    "name": "ipython",
    "version": 2
   },
   "file_extension": ".py",
   "mimetype": "text/x-python",
   "name": "python",
   "nbconvert_exporter": "python",
   "pygments_lexer": "ipython2",
   "version": "2.7.6"
  }
 },
 "nbformat": 4,
 "nbformat_minor": 5
}
