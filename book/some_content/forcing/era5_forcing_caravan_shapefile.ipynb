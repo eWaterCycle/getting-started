{
 "cells": [
  {
   "cell_type": "markdown",
   "id": "778e4b83cdbb46a1",
   "metadata": {},
   "source": [
    "# Generate ERA5 forcing\n",
    "\n",
    "This will consist of two parts in separate notebooks:\n",
    "1. using a shapefile from Caravan\n",
    "2. using your own shapefile!\n",
    "\n",
    "ERA5 need 4 different inputs:\n",
    "1. a shapefile\n",
    "2. a time-window\n",
    "3. a directory to save the data\n",
    "4. and a type of forcing\n",
    "\n"
   ]
  },
  {
   "cell_type": "markdown",
   "id": "659e4e1a01ba12fc",
   "metadata": {},
   "source": [
    "## Caravan Shapefile\n",
    "\n",
    "in eWaterCycle we provide access to the Caravan dataset, which contains all of the above data for all the catchments in the different Camels datasets. However, for two reasons, we don't use the rainfall and potential evaporation data from Caravan\n",
    "\n",
    "1. This allows us to demonstrate how to generate forcing data for any model from ERA5 (working on ERA5Land) and from CMIP data\n",
    "2. There is a known problem with the caravan evaporation data and we want to avoid using it here.\n",
    "\n",
    "We thus only use the Caravan dataset to retrieve\n",
    "\n",
    "- a shapefile of the region of interest, to be used as input for generating the forcing from ERA5\n",
    "- the observational data of river discharge\n",
    "\n",
    "Using the interactive maps at [eWaterCycle caravan map](https://www.ewatercycle.org/caravan-map/) one can easily retrieve the identifier of the catchment."
   ]
  },
  {
   "cell_type": "code",
   "execution_count": 1,
   "id": "d4efdb6d55e2b7ba",
   "metadata": {},
   "outputs": [],
   "source": [
    "# General python\n",
    "import warnings\n",
    "warnings.filterwarnings(\"ignore\", category=UserWarning)\n",
    "\n",
    "import numpy as np\n",
    "from pathlib import Path\n",
    "import pandas as pd\n",
    "import matplotlib.pyplot as plt\n",
    "import xarray as xr\n",
    "\n",
    "# Niceties\n",
    "from rich import print\n",
    "\n",
    "# General eWaterCycle\n",
    "import ewatercycle\n",
    "import ewatercycle.forcing"
   ]
  },
  {
   "cell_type": "markdown",
   "id": "a76791c8f95d3879",
   "metadata": {},
   "source": [
    "We will be using the same catchment from the Camels forcing from Caravan:"
   ]
  },
  {
   "cell_type": "code",
   "execution_count": 2,
   "id": "b88fd7786020b757",
   "metadata": {
    "ExecuteTime": {
     "end_time": "2025-07-08T11:35:18.574384Z",
     "start_time": "2025-07-08T11:35:18.570410Z"
    }
   },
   "outputs": [],
   "source": [
    "# The id of the camels region\n",
    "camels_id = \"camelsgb_33039\"  # river: Bedford Ouse at Roxton, England\n",
    "\n",
    "# The time-window of the experiment\n",
    "experiment_start_date = \"2000-08-01T00:00:00Z\"\n",
    "experiment_end_date = \"2005-08-31T00:00:00Z\""
   ]
  },
  {
   "cell_type": "code",
   "execution_count": 3,
   "id": "1411ce5b31fe440b",
   "metadata": {},
   "outputs": [],
   "source": [
    "# The path of the Caravan data\n",
    "forcing_path_caravan = Path.home() / \"forcing\" / camels_id / \"caravan\"\n",
    "forcing_path_caravan.mkdir(exist_ok=True, parents=True)"
   ]
  },
  {
   "cell_type": "markdown",
   "id": "4ffacbf9e4f6553",
   "metadata": {},
   "source": [
    "Now if you ran the previous notebook (the one where you generate the forcing) just load the data, this saves time, and prevents an error!"
   ]
  },
  {
   "cell_type": "code",
   "execution_count": 4,
   "id": "e8ca20c947f39a8d",
   "metadata": {},
   "outputs": [],
   "source": [
    "'''Generating the camels forcing'''\n",
    "# camels_forcing = ewatercycle.forcing.sources['CaravanForcing'].generate(\n",
    "#     start_time=experiment_start_date,\n",
    "#     end_time=experiment_end_date,\n",
    "#     directory=forcing_path_caravan,\n",
    "#     basin_id=camels_id,\n",
    "# )\n",
    "\n",
    "'''Loading the camels forcing'''\n",
    "camels_forcing = ewatercycle.forcing.sources['CaravanForcing'].load(directory=forcing_path_caravan)"
   ]
  },
  {
   "cell_type": "markdown",
   "id": "30d2145b05050c11",
   "metadata": {},
   "source": [
    "### Extracting the shapefile\n",
    "\n",
    "Now we can easily extract the shapefile"
   ]
  },
  {
   "cell_type": "code",
   "execution_count": 5,
   "id": "21223626ed3ad1c5",
   "metadata": {},
   "outputs": [],
   "source": [
    "shapefile = camels_forcing.shape"
   ]
  },
  {
   "cell_type": "markdown",
   "id": "6066d36a4c7ada21",
   "metadata": {},
   "source": [
    "## ERA5 Forcing Generation\n",
    "\n",
    "Now that we have the shapefile we can almost get the ERA5 forcing.\n",
    "But first we need to define a new path.\n",
    "And we need to pick what kind of forcing we want to generate, this depends on what model you want to use, currently these sources are supported:\n",
    "1. LumpedMakkinkForcing\n",
    "2. DistributedMakkinkForcing\n",
    "3. DistributedUserForcing\n",
    "4. GenericDistributedForcing\n",
    "5. GenericLumpedForcing\n",
    "6. HypeForcing\n",
    "7. LisfloodForcing\n",
    "8. LumpedUserForcing\n",
    "9. MarrmotForcing\n",
    "10. PCRGlobWBForcing\n",
    "11. WflowForcing\n",
    "\n",
    "More details can be found in the [documentation](https://ewatercycle.readthedocs.io/en/latest/user_guide/02_forcing.html). And also in the [models section](https://www.ewatercycle.org/getting-started/main/some_content/different_models.html).\n",
    "\n",
    "For now we will use 'lumped Makkink forcing', this is needed for running an HBV model."
   ]
  },
  {
   "cell_type": "code",
   "execution_count": 6,
   "id": "beb9bf9712d17086",
   "metadata": {},
   "outputs": [],
   "source": [
    "forcing_path_ERA5 = Path.home() / \"forcing\" / camels_id / \"ERA5\"\n",
    "forcing_path_ERA5.mkdir(exist_ok=True)"
   ]
  },
  {
   "cell_type": "markdown",
   "id": "5b8f7ccf-b1ff-4e97-8eff-d30091f532bf",
   "metadata": {},
   "source": [
    "When we generate the ERA5 object we use data that we have stored locally on the SRC. This data spans from 1980-2020. Also note that when you already have the ERA5 forcing downloaded, it will throw errors."
   ]
  },
  {
   "cell_type": "code",
   "execution_count": 7,
   "id": "8bb15e8e298ccd01",
   "metadata": {},
   "outputs": [
    {
     "ename": "DiagnosticError",
     "evalue": "Diagnostic script /opt/conda/envs/ewatercycle2/lib/python3.12/site-packages/ewatercycle/esmvaltool/diagnostic/copier.py failed with return code 1. See the log in /home/mmelotto/forcing/camelsgb_33039/ERA5/run/diagnostic/script/log.txt",
     "output_type": "error",
     "traceback": [
      "\u001b[0;31m---------------------------------------------------------------------------\u001b[0m",
      "\u001b[0;31mRemoteTraceback\u001b[0m                           Traceback (most recent call last)",
      "\u001b[0;31mRemoteTraceback\u001b[0m: \n\"\"\"\nTraceback (most recent call last):\n  File \"/opt/conda/envs/ewatercycle2/lib/python3.12/multiprocessing/pool.py\", line 125, in worker\n    result = (True, func(*args, **kwds))\n                    ^^^^^^^^^^^^^^^^^^^\n  File \"/opt/conda/envs/ewatercycle2/lib/python3.12/site-packages/esmvalcore/_task.py\", line 816, in _run_task\n    output_files = task.run()\n                   ^^^^^^^^^^\n  File \"/opt/conda/envs/ewatercycle2/lib/python3.12/site-packages/esmvalcore/_task.py\", line 264, in run\n    self.output_files = self._run(input_files)\n                        ^^^^^^^^^^^^^^^^^^^^^^\n  File \"/opt/conda/envs/ewatercycle2/lib/python3.12/site-packages/esmvalcore/_task.py\", line 595, in _run\n    raise DiagnosticError(\nesmvalcore._task.DiagnosticError: Diagnostic script /opt/conda/envs/ewatercycle2/lib/python3.12/site-packages/ewatercycle/esmvaltool/diagnostic/copier.py failed with return code 1. See the log in /home/mmelotto/forcing/camelsgb_33039/ERA5/run/diagnostic/script/log.txt\n\"\"\"",
      "\nThe above exception was the direct cause of the following exception:\n",
      "\u001b[0;31mDiagnosticError\u001b[0m                           Traceback (most recent call last)",
      "Cell \u001b[0;32mIn[7], line 1\u001b[0m\n\u001b[0;32m----> 1\u001b[0m ERA5_forcing \u001b[38;5;241m=\u001b[39m \u001b[43mewatercycle\u001b[49m\u001b[38;5;241;43m.\u001b[39;49m\u001b[43mforcing\u001b[49m\u001b[38;5;241;43m.\u001b[39;49m\u001b[43msources\u001b[49m\u001b[43m[\u001b[49m\u001b[38;5;124;43m\"\u001b[39;49m\u001b[38;5;124;43mLumpedMakkinkForcing\u001b[39;49m\u001b[38;5;124;43m\"\u001b[39;49m\u001b[43m]\u001b[49m\u001b[38;5;241;43m.\u001b[39;49m\u001b[43mgenerate\u001b[49m\u001b[43m(\u001b[49m\n\u001b[1;32m      2\u001b[0m \u001b[43m   \u001b[49m\u001b[43mdataset\u001b[49m\u001b[38;5;241;43m=\u001b[39;49m\u001b[38;5;124;43m\"\u001b[39;49m\u001b[38;5;124;43mERA5\u001b[39;49m\u001b[38;5;124;43m\"\u001b[39;49m\u001b[43m,\u001b[49m\n\u001b[1;32m      3\u001b[0m \u001b[43m   \u001b[49m\u001b[43mstart_time\u001b[49m\u001b[38;5;241;43m=\u001b[39;49m\u001b[43mexperiment_start_date\u001b[49m\u001b[43m,\u001b[49m\n\u001b[1;32m      4\u001b[0m \u001b[43m   \u001b[49m\u001b[43mend_time\u001b[49m\u001b[38;5;241;43m=\u001b[39;49m\u001b[43mexperiment_end_date\u001b[49m\u001b[43m,\u001b[49m\n\u001b[1;32m      5\u001b[0m \u001b[43m   \u001b[49m\u001b[43mshape\u001b[49m\u001b[38;5;241;43m=\u001b[39;49m\u001b[43mshapefile\u001b[49m\u001b[43m,\u001b[49m\n\u001b[1;32m      6\u001b[0m \u001b[43m   \u001b[49m\u001b[43mdirectory\u001b[49m\u001b[38;5;241;43m=\u001b[39;49m\u001b[43mforcing_path_ERA5\u001b[49m\u001b[43m,\u001b[49m\n\u001b[1;32m      7\u001b[0m \u001b[43m)\u001b[49m\n",
      "File \u001b[0;32m/opt/conda/envs/ewatercycle2/lib/python3.12/site-packages/ewatercycle/_forcings/makkink.py:57\u001b[0m, in \u001b[0;36mMakkink.generate\u001b[0;34m(cls, dataset, start_time, end_time, shape, directory, **model_specific_options)\u001b[0m\n\u001b[1;32m     47\u001b[0m \u001b[38;5;129m@classmethod\u001b[39m\n\u001b[1;32m     48\u001b[0m \u001b[38;5;28;01mdef\u001b[39;00m\u001b[38;5;250m \u001b[39m\u001b[38;5;21mgenerate\u001b[39m(  \u001b[38;5;66;03m# type: ignore[override]\u001b[39;00m\n\u001b[1;32m     49\u001b[0m     \u001b[38;5;28mcls\u001b[39m: \u001b[38;5;28mtype\u001b[39m[\u001b[38;5;124m\"\u001b[39m\u001b[38;5;124mMakkink\u001b[39m\u001b[38;5;124m\"\u001b[39m],\n\u001b[0;32m   (...)\u001b[0m\n\u001b[1;32m     55\u001b[0m     \u001b[38;5;241m*\u001b[39m\u001b[38;5;241m*\u001b[39mmodel_specific_options,\n\u001b[1;32m     56\u001b[0m ) \u001b[38;5;241m-\u001b[39m\u001b[38;5;241m>\u001b[39m \u001b[38;5;124m\"\u001b[39m\u001b[38;5;124mMakkink\u001b[39m\u001b[38;5;124m\"\u001b[39m:\n\u001b[0;32m---> 57\u001b[0m     \u001b[38;5;28;01mreturn\u001b[39;00m \u001b[38;5;28;43msuper\u001b[39;49m\u001b[43m(\u001b[49m\u001b[43m)\u001b[49m\u001b[38;5;241;43m.\u001b[39;49m\u001b[43mgenerate\u001b[49m\u001b[43m(\u001b[49m\n\u001b[1;32m     58\u001b[0m \u001b[43m        \u001b[49m\u001b[43mdataset\u001b[49m\u001b[43m,\u001b[49m\n\u001b[1;32m     59\u001b[0m \u001b[43m        \u001b[49m\u001b[43mstart_time\u001b[49m\u001b[43m,\u001b[49m\n\u001b[1;32m     60\u001b[0m \u001b[43m        \u001b[49m\u001b[43mend_time\u001b[49m\u001b[43m,\u001b[49m\n\u001b[1;32m     61\u001b[0m \u001b[43m        \u001b[49m\u001b[43mshape\u001b[49m\u001b[43m,\u001b[49m\n\u001b[1;32m     62\u001b[0m \u001b[43m        \u001b[49m\u001b[43mdirectory\u001b[49m\u001b[43m,\u001b[49m\n\u001b[1;32m     63\u001b[0m \u001b[43m        \u001b[49m\u001b[43mvariables\u001b[49m\u001b[38;5;241;43m=\u001b[39;49m\u001b[43m(\u001b[49m\u001b[38;5;124;43m\"\u001b[39;49m\u001b[38;5;124;43mpr\u001b[39;49m\u001b[38;5;124;43m\"\u001b[39;49m\u001b[43m,\u001b[49m\u001b[43m \u001b[49m\u001b[38;5;124;43m\"\u001b[39;49m\u001b[38;5;124;43mtas\u001b[39;49m\u001b[38;5;124;43m\"\u001b[39;49m\u001b[43m,\u001b[49m\u001b[43m \u001b[49m\u001b[38;5;124;43m\"\u001b[39;49m\u001b[38;5;124;43mrsds\u001b[39;49m\u001b[38;5;124;43m\"\u001b[39;49m\u001b[43m)\u001b[49m\u001b[43m,\u001b[49m\n\u001b[1;32m     64\u001b[0m \u001b[43m        \u001b[49m\u001b[43mpostprocessor\u001b[49m\u001b[38;5;241;43m=\u001b[39;49m\u001b[43mderive_e_pot\u001b[49m\u001b[43m,\u001b[49m\n\u001b[1;32m     65\u001b[0m \u001b[43m        \u001b[49m\u001b[38;5;241;43m*\u001b[39;49m\u001b[38;5;241;43m*\u001b[39;49m\u001b[43mmodel_specific_options\u001b[49m\u001b[43m,\u001b[49m\n\u001b[1;32m     66\u001b[0m \u001b[43m    \u001b[49m\u001b[43m)\u001b[49m\n",
      "File \u001b[0;32m/opt/conda/envs/ewatercycle2/lib/python3.12/site-packages/ewatercycle/base/forcing.py:162\u001b[0m, in \u001b[0;36mDefaultForcing.generate\u001b[0;34m(cls, dataset, start_time, end_time, shape, directory, variables, postprocessor, **model_specific_options)\u001b[0m\n\u001b[1;32m    129\u001b[0m \u001b[38;5;250m\u001b[39m\u001b[38;5;124;03m\"\"\"Generate forcings for a model.\u001b[39;00m\n\u001b[1;32m    130\u001b[0m \n\u001b[1;32m    131\u001b[0m \u001b[38;5;124;03mThe forcing is generated with help of\u001b[39;00m\n\u001b[0;32m   (...)\u001b[0m\n\u001b[1;32m    151\u001b[0m \u001b[38;5;124;03m    model_specific_options: Subclass specific options.\u001b[39;00m\n\u001b[1;32m    152\u001b[0m \u001b[38;5;124;03m\"\"\"\u001b[39;00m\n\u001b[1;32m    153\u001b[0m recipe \u001b[38;5;241m=\u001b[39m \u001b[38;5;28mcls\u001b[39m\u001b[38;5;241m.\u001b[39m_build_recipe(\n\u001b[1;32m    154\u001b[0m     dataset\u001b[38;5;241m=\u001b[39mdataset,\n\u001b[1;32m    155\u001b[0m     start_time\u001b[38;5;241m=\u001b[39mget_time(start_time),\n\u001b[0;32m   (...)\u001b[0m\n\u001b[1;32m    159\u001b[0m     \u001b[38;5;241m*\u001b[39m\u001b[38;5;241m*\u001b[39mmodel_specific_options,\n\u001b[1;32m    160\u001b[0m )\n\u001b[0;32m--> 162\u001b[0m recipe_output \u001b[38;5;241m=\u001b[39m \u001b[38;5;28;43mcls\u001b[39;49m\u001b[38;5;241;43m.\u001b[39;49m\u001b[43m_run_recipe\u001b[49m\u001b[43m(\u001b[49m\n\u001b[1;32m    163\u001b[0m \u001b[43m    \u001b[49m\u001b[43mrecipe\u001b[49m\u001b[43m,\u001b[49m\u001b[43m \u001b[49m\u001b[43mdirectory\u001b[49m\u001b[38;5;241;43m=\u001b[39;49m\u001b[43mPath\u001b[49m\u001b[43m(\u001b[49m\u001b[43mdirectory\u001b[49m\u001b[43m)\u001b[49m\u001b[43m \u001b[49m\u001b[38;5;28;43;01mif\u001b[39;49;00m\u001b[43m \u001b[49m\u001b[43mdirectory\u001b[49m\u001b[43m \u001b[49m\u001b[38;5;28;43;01melse\u001b[39;49;00m\u001b[43m \u001b[49m\u001b[38;5;28;43;01mNone\u001b[39;49;00m\n\u001b[1;32m    164\u001b[0m \u001b[43m\u001b[49m\u001b[43m)\u001b[49m\n\u001b[1;32m    166\u001b[0m derived_variables: \u001b[38;5;28mtuple\u001b[39m[\u001b[38;5;28mstr\u001b[39m, \u001b[38;5;241m.\u001b[39m\u001b[38;5;241m.\u001b[39m\u001b[38;5;241m.\u001b[39m] \u001b[38;5;241m=\u001b[39m ()\n\u001b[1;32m    167\u001b[0m \u001b[38;5;28;01mif\u001b[39;00m postprocessor \u001b[38;5;129;01mis\u001b[39;00m \u001b[38;5;129;01mnot\u001b[39;00m \u001b[38;5;28;01mNone\u001b[39;00m:\n",
      "File \u001b[0;32m/opt/conda/envs/ewatercycle2/lib/python3.12/site-packages/ewatercycle/base/forcing.py:217\u001b[0m, in \u001b[0;36mDefaultForcing._run_recipe\u001b[0;34m(cls, recipe, directory)\u001b[0m\n\u001b[1;32m    211\u001b[0m \u001b[38;5;129m@classmethod\u001b[39m\n\u001b[1;32m    212\u001b[0m \u001b[38;5;28;01mdef\u001b[39;00m\u001b[38;5;250m \u001b[39m\u001b[38;5;21m_run_recipe\u001b[39m(\n\u001b[1;32m    213\u001b[0m     \u001b[38;5;28mcls\u001b[39m,\n\u001b[1;32m    214\u001b[0m     recipe: Recipe,\n\u001b[1;32m    215\u001b[0m     directory: Path \u001b[38;5;241m|\u001b[39m \u001b[38;5;28;01mNone\u001b[39;00m \u001b[38;5;241m=\u001b[39m \u001b[38;5;28;01mNone\u001b[39;00m,\n\u001b[1;32m    216\u001b[0m ) \u001b[38;5;241m-\u001b[39m\u001b[38;5;241m>\u001b[39m \u001b[38;5;28mdict\u001b[39m[\u001b[38;5;28mstr\u001b[39m, \u001b[38;5;28mstr\u001b[39m]:\n\u001b[0;32m--> 217\u001b[0m     \u001b[38;5;28;01mreturn\u001b[39;00m \u001b[43mrun_recipe\u001b[49m\u001b[43m(\u001b[49m\u001b[43mrecipe\u001b[49m\u001b[43m,\u001b[49m\u001b[43m \u001b[49m\u001b[43mdirectory\u001b[49m\u001b[43m)\u001b[49m\n",
      "File \u001b[0;32m/opt/conda/envs/ewatercycle2/lib/python3.12/site-packages/ewatercycle/esmvaltool/run.py:109\u001b[0m, in \u001b[0;36mrun_recipe\u001b[0;34m(recipe, output_dir)\u001b[0m\n\u001b[1;32m    100\u001b[0m warnings\u001b[38;5;241m.\u001b[39mfilterwarnings(  \u001b[38;5;66;03m# Not relevant for end users.\u001b[39;00m\n\u001b[1;32m    101\u001b[0m     action\u001b[38;5;241m=\u001b[39m\u001b[38;5;124m\"\u001b[39m\u001b[38;5;124mignore\u001b[39m\u001b[38;5;124m\"\u001b[39m,\n\u001b[1;32m    102\u001b[0m     message\u001b[38;5;241m=\u001b[39m\u001b[38;5;124m\"\u001b[39m\u001b[38;5;124mThank you for trying out the new ESMValCore API\u001b[39m\u001b[38;5;124m\"\u001b[39m,\n\u001b[1;32m    103\u001b[0m )\n\u001b[1;32m    104\u001b[0m warnings\u001b[38;5;241m.\u001b[39mfilterwarnings(  \u001b[38;5;66;03m# Hide Iris warning (upstream issue)\u001b[39;00m\n\u001b[1;32m    105\u001b[0m     action\u001b[38;5;241m=\u001b[39m\u001b[38;5;124m\"\u001b[39m\u001b[38;5;124mignore\u001b[39m\u001b[38;5;124m\"\u001b[39m,\n\u001b[1;32m    106\u001b[0m     message\u001b[38;5;241m=\u001b[39m\u001b[38;5;124m\"\u001b[39m\u001b[38;5;124mSaving to netcdf with legacy-style attribute\u001b[39m\u001b[38;5;124m\"\u001b[39m,\n\u001b[1;32m    107\u001b[0m )\n\u001b[0;32m--> 109\u001b[0m output \u001b[38;5;241m=\u001b[39m \u001b[43m_save_and_run_recipe\u001b[49m\u001b[43m(\u001b[49m\u001b[43mrecipe\u001b[49m\u001b[43m,\u001b[49m\u001b[43m \u001b[49m\u001b[43moutput_dir\u001b[49m\u001b[43m)\u001b[49m\n\u001b[1;32m    110\u001b[0m \u001b[38;5;28;01mreturn\u001b[39;00m _parse_recipe_output(output)\n",
      "File \u001b[0;32m/opt/conda/envs/ewatercycle2/lib/python3.12/site-packages/ewatercycle/esmvaltool/run.py:137\u001b[0m, in \u001b[0;36m_save_and_run_recipe\u001b[0;34m(recipe, output_dir)\u001b[0m\n\u001b[1;32m    135\u001b[0m     esmlvaltool_recipe \u001b[38;5;241m=\u001b[39m ESMValToolRecipe(recipe_path)\n\u001b[1;32m    136\u001b[0m     session \u001b[38;5;241m=\u001b[39m _session(output_dir)\n\u001b[0;32m--> 137\u001b[0m     output \u001b[38;5;241m=\u001b[39m \u001b[43mesmlvaltool_recipe\u001b[49m\u001b[38;5;241;43m.\u001b[39;49m\u001b[43mrun\u001b[49m\u001b[43m(\u001b[49m\u001b[43msession\u001b[49m\u001b[38;5;241;43m=\u001b[39;49m\u001b[43msession\u001b[49m\u001b[43m)\u001b[49m\n\u001b[1;32m    138\u001b[0m \u001b[38;5;28;01mfinally\u001b[39;00m:\n\u001b[1;32m    139\u001b[0m     recipe_path\u001b[38;5;241m.\u001b[39munlink()\n",
      "File \u001b[0;32m/opt/conda/envs/ewatercycle2/lib/python3.12/site-packages/esmvalcore/experimental/recipe.py:138\u001b[0m, in \u001b[0;36mRecipe.run\u001b[0;34m(self, task, session)\u001b[0m\n\u001b[1;32m    136\u001b[0m     _dask\u001b[38;5;241m.\u001b[39mcheck_distributed_config()\n\u001b[1;32m    137\u001b[0m     \u001b[38;5;28mself\u001b[39m\u001b[38;5;241m.\u001b[39m_engine \u001b[38;5;241m=\u001b[39m \u001b[38;5;28mself\u001b[39m\u001b[38;5;241m.\u001b[39m_load(session\u001b[38;5;241m=\u001b[39msession)\n\u001b[0;32m--> 138\u001b[0m     \u001b[38;5;28;43mself\u001b[39;49m\u001b[38;5;241;43m.\u001b[39;49m\u001b[43m_engine\u001b[49m\u001b[38;5;241;43m.\u001b[39;49m\u001b[43mrun\u001b[49m\u001b[43m(\u001b[49m\u001b[43m)\u001b[49m\n\u001b[1;32m    140\u001b[0m shutil\u001b[38;5;241m.\u001b[39mcopy2(\u001b[38;5;28mself\u001b[39m\u001b[38;5;241m.\u001b[39mpath, session\u001b[38;5;241m.\u001b[39mrun_dir)\n\u001b[1;32m    142\u001b[0m output \u001b[38;5;241m=\u001b[39m \u001b[38;5;28mself\u001b[39m\u001b[38;5;241m.\u001b[39mget_output()\n",
      "File \u001b[0;32m/opt/conda/envs/ewatercycle2/lib/python3.12/site-packages/esmvalcore/_recipe/recipe.py:1095\u001b[0m, in \u001b[0;36mRecipe.run\u001b[0;34m(self)\u001b[0m\n\u001b[1;32m   1092\u001b[0m \u001b[38;5;28;01mif\u001b[39;00m \u001b[38;5;28mself\u001b[39m\u001b[38;5;241m.\u001b[39msession[\u001b[38;5;124m'\u001b[39m\u001b[38;5;124msearch_esgf\u001b[39m\u001b[38;5;124m'\u001b[39m] \u001b[38;5;241m!=\u001b[39m \u001b[38;5;124m'\u001b[39m\u001b[38;5;124mnever\u001b[39m\u001b[38;5;124m'\u001b[39m:\n\u001b[1;32m   1093\u001b[0m     esgf\u001b[38;5;241m.\u001b[39mdownload(\u001b[38;5;28mself\u001b[39m\u001b[38;5;241m.\u001b[39m_download_files, \u001b[38;5;28mself\u001b[39m\u001b[38;5;241m.\u001b[39msession[\u001b[38;5;124m'\u001b[39m\u001b[38;5;124mdownload_dir\u001b[39m\u001b[38;5;124m'\u001b[39m])\n\u001b[0;32m-> 1095\u001b[0m \u001b[38;5;28;43mself\u001b[39;49m\u001b[38;5;241;43m.\u001b[39;49m\u001b[43mtasks\u001b[49m\u001b[38;5;241;43m.\u001b[39;49m\u001b[43mrun\u001b[49m\u001b[43m(\u001b[49m\u001b[43mmax_parallel_tasks\u001b[49m\u001b[38;5;241;43m=\u001b[39;49m\u001b[38;5;28;43mself\u001b[39;49m\u001b[38;5;241;43m.\u001b[39;49m\u001b[43msession\u001b[49m\u001b[43m[\u001b[49m\u001b[38;5;124;43m'\u001b[39;49m\u001b[38;5;124;43mmax_parallel_tasks\u001b[39;49m\u001b[38;5;124;43m'\u001b[39;49m\u001b[43m]\u001b[49m\u001b[43m)\u001b[49m\n\u001b[1;32m   1096\u001b[0m logger\u001b[38;5;241m.\u001b[39minfo(\n\u001b[1;32m   1097\u001b[0m     \u001b[38;5;124m\"\u001b[39m\u001b[38;5;124mWrote recipe with version numbers and wildcards \u001b[39m\u001b[38;5;124m\"\u001b[39m\n\u001b[1;32m   1098\u001b[0m     \u001b[38;5;124m\"\u001b[39m\u001b[38;5;124mto:\u001b[39m\u001b[38;5;130;01m\\n\u001b[39;00m\u001b[38;5;124mfile://\u001b[39m\u001b[38;5;132;01m%s\u001b[39;00m\u001b[38;5;124m\"\u001b[39m, filled_recipe)\n\u001b[1;32m   1099\u001b[0m \u001b[38;5;28mself\u001b[39m\u001b[38;5;241m.\u001b[39mwrite_html_summary()\n",
      "File \u001b[0;32m/opt/conda/envs/ewatercycle2/lib/python3.12/site-packages/esmvalcore/_task.py:738\u001b[0m, in \u001b[0;36mTaskSet.run\u001b[0;34m(self, max_parallel_tasks)\u001b[0m\n\u001b[1;32m    736\u001b[0m     \u001b[38;5;28mself\u001b[39m\u001b[38;5;241m.\u001b[39m_run_sequential()\n\u001b[1;32m    737\u001b[0m \u001b[38;5;28;01melse\u001b[39;00m:\n\u001b[0;32m--> 738\u001b[0m     \u001b[38;5;28;43mself\u001b[39;49m\u001b[38;5;241;43m.\u001b[39;49m\u001b[43m_run_parallel\u001b[49m\u001b[43m(\u001b[49m\u001b[43maddress\u001b[49m\u001b[43m,\u001b[49m\u001b[43m \u001b[49m\u001b[43mmax_parallel_tasks\u001b[49m\u001b[43m)\u001b[49m\n",
      "File \u001b[0;32m/opt/conda/envs/ewatercycle2/lib/python3.12/site-packages/esmvalcore/_task.py:782\u001b[0m, in \u001b[0;36mTaskSet._run_parallel\u001b[0;34m(self, scheduler_address, max_parallel_tasks)\u001b[0m\n\u001b[1;32m    780\u001b[0m ready \u001b[38;5;241m=\u001b[39m {t \u001b[38;5;28;01mfor\u001b[39;00m t \u001b[38;5;129;01min\u001b[39;00m running \u001b[38;5;28;01mif\u001b[39;00m running[t]\u001b[38;5;241m.\u001b[39mready()}\n\u001b[1;32m    781\u001b[0m \u001b[38;5;28;01mfor\u001b[39;00m task \u001b[38;5;129;01min\u001b[39;00m ready:\n\u001b[0;32m--> 782\u001b[0m     \u001b[43m_copy_results\u001b[49m\u001b[43m(\u001b[49m\u001b[43mtask\u001b[49m\u001b[43m,\u001b[49m\u001b[43m \u001b[49m\u001b[43mrunning\u001b[49m\u001b[43m[\u001b[49m\u001b[43mtask\u001b[49m\u001b[43m]\u001b[49m\u001b[43m)\u001b[49m\n\u001b[1;32m    783\u001b[0m     running\u001b[38;5;241m.\u001b[39mpop(task)\n\u001b[1;32m    785\u001b[0m \u001b[38;5;66;03m# Wait if there are still tasks running\u001b[39;00m\n",
      "File \u001b[0;32m/opt/conda/envs/ewatercycle2/lib/python3.12/site-packages/esmvalcore/_task.py:805\u001b[0m, in \u001b[0;36m_copy_results\u001b[0;34m(task, future)\u001b[0m\n\u001b[1;32m    803\u001b[0m \u001b[38;5;28;01mdef\u001b[39;00m\u001b[38;5;250m \u001b[39m\u001b[38;5;21m_copy_results\u001b[39m(task, future):\n\u001b[1;32m    804\u001b[0m \u001b[38;5;250m    \u001b[39m\u001b[38;5;124;03m\"\"\"Update task with the results from the remote process.\"\"\"\u001b[39;00m\n\u001b[0;32m--> 805\u001b[0m     task\u001b[38;5;241m.\u001b[39moutput_files, task\u001b[38;5;241m.\u001b[39mproducts \u001b[38;5;241m=\u001b[39m \u001b[43mfuture\u001b[49m\u001b[38;5;241;43m.\u001b[39;49m\u001b[43mget\u001b[49m\u001b[43m(\u001b[49m\u001b[43m)\u001b[49m\n",
      "File \u001b[0;32m/opt/conda/envs/ewatercycle2/lib/python3.12/multiprocessing/pool.py:774\u001b[0m, in \u001b[0;36mApplyResult.get\u001b[0;34m(self, timeout)\u001b[0m\n\u001b[1;32m    772\u001b[0m     \u001b[38;5;28;01mreturn\u001b[39;00m \u001b[38;5;28mself\u001b[39m\u001b[38;5;241m.\u001b[39m_value\n\u001b[1;32m    773\u001b[0m \u001b[38;5;28;01melse\u001b[39;00m:\n\u001b[0;32m--> 774\u001b[0m     \u001b[38;5;28;01mraise\u001b[39;00m \u001b[38;5;28mself\u001b[39m\u001b[38;5;241m.\u001b[39m_value\n",
      "\u001b[0;31mDiagnosticError\u001b[0m: Diagnostic script /opt/conda/envs/ewatercycle2/lib/python3.12/site-packages/ewatercycle/esmvaltool/diagnostic/copier.py failed with return code 1. See the log in /home/mmelotto/forcing/camelsgb_33039/ERA5/run/diagnostic/script/log.txt"
     ]
    }
   ],
   "source": [
    "ERA5_forcing = ewatercycle.forcing.sources[\"LumpedMakkinkForcing\"].generate(\n",
    "   dataset=\"ERA5\",\n",
    "   start_time=experiment_start_date,\n",
    "   end_time=experiment_end_date,\n",
    "   shape=shapefile,\n",
    "   directory=forcing_path_ERA5,\n",
    ")"
   ]
  },
  {
   "cell_type": "code",
   "execution_count": null,
   "id": "4b91d812b15a3267",
   "metadata": {},
   "outputs": [],
   "source": [
    "print(ERA5_forcing)"
   ]
  },
  {
   "cell_type": "markdown",
   "id": "948eb5c2802be68a",
   "metadata": {},
   "source": [
    "So the LumpedMakkinkForcing stores the following:\n",
    "1. pr: precipitation\n",
    "2. tas: temperature\n",
    "3. rsds: incoming shortwave radiation\n",
    "4. evspsblpot: potential evaporation (note that this is calculated, using Makking)"
   ]
  },
  {
   "cell_type": "markdown",
   "id": "dbb79aae208037ef",
   "metadata": {},
   "source": [
    "We can also load the forcing data after we have generated it:"
   ]
  },
  {
   "cell_type": "code",
   "execution_count": null,
   "id": "43b21fe95c10b62d",
   "metadata": {},
   "outputs": [],
   "source": [
    "load_location = forcing_path_ERA5 / \"work\" / \"diagnostic\" / \"script\"  # this is needed because the data is stored in a sub-directory\n",
    "ERA5_forcing = ewatercycle.forcing.sources[\"LumpedMakkinkForcing\"].load(directory=load_location)"
   ]
  },
  {
   "cell_type": "code",
   "execution_count": null,
   "id": "990fe8c4-d047-4cf8-9594-7df7e54f7bb1",
   "metadata": {},
   "outputs": [],
   "source": [
    "print(ERA5_forcing)"
   ]
  },
  {
   "cell_type": "markdown",
   "id": "fae3453d-29b4-4f2b-a231-890066bcb112",
   "metadata": {},
   "source": [
    "## The data\n",
    "\n",
    "We can easily plot the data now!"
   ]
  },
  {
   "cell_type": "code",
   "execution_count": null,
   "id": "a76e6257-b105-4feb-9b67-4ff4e16dd51d",
   "metadata": {},
   "outputs": [],
   "source": [
    "ERA5_data = {'precipitation pr': xr.open_dataset(ERA5_forcing['pr']),\n",
    "             'temperature tas': xr.open_dataset(ERA5_forcing['tas']),\n",
    "             'incoming_shortwave_radiation rsds': xr.open_dataset(ERA5_forcing['rsds']),\n",
    "             'potential_evaporation evspsblpot': xr.open_dataset(ERA5_forcing['evspsblpot'])\n",
    "}\n",
    "\n",
    "plot_counter = 1\n",
    "plt.figure(figsize=(15, 10))\n",
    "for name, data in ERA5_data.items():\n",
    "    plt.subplot(3,2, plot_counter)\n",
    "    data[name.split(\" \")[-1]].plot()\n",
    "    plt.title(f\"{name.split(\" \")[0]}\")\n",
    "    plot_counter+=1\n",
    "\n",
    "plt.suptitle(\"ERA5 LumpedMakkink Data\", fontsize=20)\n",
    "plt.tight_layout()"
   ]
  },
  {
   "cell_type": "code",
   "execution_count": null,
   "id": "22758cdc-2cdf-43ec-a5a5-6fbf27dfad0e",
   "metadata": {},
   "outputs": [],
   "source": []
  }
 ],
 "metadata": {
  "kernelspec": {
   "display_name": "Python 3 (ipykernel)",
   "language": "python",
   "name": "python3"
  },
  "language_info": {
   "codemirror_mode": {
    "name": "ipython",
    "version": 3
   },
   "file_extension": ".py",
   "mimetype": "text/x-python",
   "name": "python",
   "nbconvert_exporter": "python",
   "pygments_lexer": "ipython3",
   "version": "3.12.7"
  }
 },
 "nbformat": 4,
 "nbformat_minor": 5
}
