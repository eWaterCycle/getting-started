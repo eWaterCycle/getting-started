{
 "cells": [
  {
   "metadata": {},
   "cell_type": "markdown",
   "source": [
    "# Generate ERA5 forcing\n",
    "\n",
    "This will consist of two parts in separate notebooks:\n",
    "1. using a shapefile from Caravan\n",
    "2. using your own shapefile!\n",
    "\n",
    "ERA5 need 3 different inputs:\n",
    "1. a shapefile\n",
    "2. a time-window\n",
    "3. a directory to save the data\n",
    "\n"
   ],
   "id": "778e4b83cdbb46a1"
  },
  {
   "metadata": {},
   "cell_type": "markdown",
   "source": [
    "## Caravan Shapefile\n",
    "\n",
    "in eWaterCycle we provide access to the Caravan dataset, which contains all of the above data for all the catchments in the different Camels datasets. However, for two reasons, we don't use the rainfall and potential evaporation data from Caravan\n",
    "\n",
    "1. This allows us to demonstrate how to generate forcing data for any model from ERA5 (working on ERA5Land) and from CMIP data\n",
    "2. There is a known problem with the caravan evaporation data and we want to avoid using it here.\n",
    "\n",
    "We thus only use the Caravan dataset to retrieve\n",
    "\n",
    "- a shapefile of the region of interest, to be used as input for generating the forcing from ERA5\n",
    "- the observational data of river discharge\n",
    "\n",
    "Using the interactive maps at [eWaterCycle caravan map](https://www.ewatercycle.org/caravan-map/) one can easily retrieve the identifier of the catchment."
   ],
   "id": "659e4e1a01ba12fc"
  },
  {
   "metadata": {},
   "cell_type": "code",
   "outputs": [],
   "execution_count": null,
   "source": [
    "# General python\n",
    "import warnings\n",
    "warnings.filterwarnings(\"ignore\", category=UserWarning)\n",
    "\n",
    "import numpy as np\n",
    "from pathlib import Path\n",
    "import pandas as pd\n",
    "import matplotlib.pyplot as plt\n",
    "import xarray as xr\n",
    "\n",
    "# Niceties\n",
    "from rich import print\n",
    "\n",
    "# General eWaterCycle\n",
    "import ewatercycle\n",
    "import ewatercycle.forcing"
   ],
   "id": "d4efdb6d55e2b7ba"
  },
  {
   "metadata": {},
   "cell_type": "markdown",
   "source": "We will be using the same catchment from the Camels forcing from Caravan:",
   "id": "a76791c8f95d3879"
  },
  {
   "metadata": {
    "ExecuteTime": {
     "end_time": "2025-07-08T11:35:18.574384Z",
     "start_time": "2025-07-08T11:35:18.570410Z"
    }
   },
   "cell_type": "code",
   "source": [
    "# The id of the camels region\n",
    "camels_id = \"camelsgb_33039\"  # river: Bedford Ouse at Roxton, England\n",
    "\n",
    "# The time-window of the experiment\n",
    "experiment_start_date = \"2000-08-01T00:00:00Z\"\n",
    "experiment_end_date = \"2005-08-31T00:00:00Z\""
   ],
   "id": "b88fd7786020b757",
   "outputs": [],
   "execution_count": 1
  },
  {
   "metadata": {},
   "cell_type": "code",
   "outputs": [],
   "execution_count": null,
   "source": [
    "# The path of the Caravan data\n",
    "forcing_path_caravan = Path.home() / \"forcing\" / camels_id / \"caravan\"\n",
    "forcing_path_caravan.mkdir(exist_ok=True, parents=True)"
   ],
   "id": "1411ce5b31fe440b"
  },
  {
   "metadata": {},
   "cell_type": "markdown",
   "source": "Now if you ran the previous notebook (the one where you generate the forcing) just load the data, this saves time!",
   "id": "4ffacbf9e4f6553"
  },
  {
   "metadata": {},
   "cell_type": "code",
   "outputs": [],
   "execution_count": null,
   "source": [
    "'''Generating the camels forcing'''\n",
    "camels_forcing = ewatercycle.forcing.sources['CaravanForcing'].generate(\n",
    "    start_time=experiment_start_date,\n",
    "    end_time=experiment_end_date,\n",
    "    directory=forcing_path_caravan,\n",
    "    basin_id=camels_id,\n",
    ")\n",
    "\n",
    "'''Loading the camels forcing'''\n",
    "# camels_forcing = ewatercycle.forcing.sources['CaravanForcing'].load(directory=forcing_path_caravan)"
   ],
   "id": "e8ca20c947f39a8d"
  },
  {
   "metadata": {},
   "cell_type": "markdown",
   "source": [
    "### Extracting the shapefile\n",
    "\n",
    "Now we can easily extract the shapefile"
   ],
   "id": "30d2145b05050c11"
  },
  {
   "metadata": {},
   "cell_type": "code",
   "outputs": [],
   "execution_count": null,
   "source": "shapefile = camels_forcing.shapefile",
   "id": "21223626ed3ad1c5"
  },
  {
   "metadata": {},
   "cell_type": "markdown",
   "source": [
    "## ERA5 Forcing Generation\n",
    "\n",
    "Now that we have the shapefile we can almost get the ERA5 forcing.\n",
    "But first we need to define a new path.\n",
    "And we need to pick what kind of forcing we want to generate, this depends on what model you want to use, currently these sources are supported:\n",
    "1. LumpedMakkinkForcing\n",
    "2. DistributedMakkinkForcing\n",
    "3. DistributedUserForcing\n",
    "4. GenericDistributedForcing\n",
    "5. GenericLumpedForcing\n",
    "6. HypeForcing\n",
    "7. LisfloodForcing\n",
    "8. LumpedUserForcing\n",
    "9. MarrmotForcing\n",
    "10. PCRGlobWBForcing\n",
    "11. WflowForcing\n",
    "\n",
    "More details can be found in the [documentation](https://ewatercycle.readthedocs.io/en/latest/user_guide/02_forcing.html). And also in the [models section](https://www.ewatercycle.org/getting-started/main/some_content/different_models.html).\n",
    "\n",
    "For now we will use 'lumped Makkink forcing', this is needed for running an HBV model."
   ],
   "id": "6066d36a4c7ada21"
  },
  {
   "metadata": {},
   "cell_type": "code",
   "outputs": [],
   "execution_count": null,
   "source": [
    "forcing_path_ERA5 = Path.home() / \"forcing\" / camels_id / \"ERA5\"\n",
    "forcing_path_ERA5.mkdir(exist_ok=True)"
   ],
   "id": "beb9bf9712d17086"
  },
  {
   "metadata": {},
   "cell_type": "code",
   "outputs": [],
   "execution_count": null,
   "source": [
    "ERA5_forcing = ewatercycle.forcing.sources[\"LumpedMakkinkForcing\"].generate(\n",
    "   dataset=\"ERA5\",\n",
    "   start_time=experiment_start_date,\n",
    "   end_time=experiment_end_date,\n",
    "   shape=shapefile,\n",
    "   directory=forcing_path_ERA5,\n",
    ")"
   ],
   "id": "8bb15e8e298ccd01"
  },
  {
   "metadata": {},
   "cell_type": "code",
   "outputs": [],
   "execution_count": null,
   "source": "print(ERA5_forcing)",
   "id": "4b91d812b15a3267"
  },
  {
   "metadata": {},
   "cell_type": "markdown",
   "source": "So the LumpedMakkinkForcing stores the following:\n",
   "id": "948eb5c2802be68a"
  },
  {
   "metadata": {},
   "cell_type": "markdown",
   "source": "We can also load the forcing data after we have generated it:",
   "id": "dbb79aae208037ef"
  },
  {
   "metadata": {},
   "cell_type": "code",
   "outputs": [],
   "execution_count": null,
   "source": [
    "load_location = forcing_path_ERA5 / \"work\" / \"diagnostic\" / \"script\"  # this is needed because the data is stored in a sub-directory\n",
    "ERA5_forcing = ewatercycle.forcing.sources[\"LumpedMakkinkForcing\"].load(directory=load_location)"
   ],
   "id": "43b21fe95c10b62d"
  }
 ],
 "metadata": {
  "kernelspec": {
   "display_name": "Python 3",
   "language": "python",
   "name": "python3"
  },
  "language_info": {
   "codemirror_mode": {
    "name": "ipython",
    "version": 2
   },
   "file_extension": ".py",
   "mimetype": "text/x-python",
   "name": "python",
   "nbconvert_exporter": "python",
   "pygments_lexer": "ipython2",
   "version": "2.7.6"
  }
 },
 "nbformat": 4,
 "nbformat_minor": 5
}
