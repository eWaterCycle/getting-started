{
 "cells": [
  {
   "metadata": {},
   "cell_type": "markdown",
   "source": [
    "# Generate Caravan Forcing\n",
    "\n",
    "This notebook will give you all the details for getting CAMELS forcing from the Caravan dataset.\n",
    "\n",
    "in eWaterCycle we provide access to the Caravan dataset, which contains all of the above data for all the catchments in the different Camels datasets. There is a known problem with the caravan evaporation data keep that in mind!\n",
    "\n",
    "\n",
    "Using the interactive maps at [eWaterCycle caravan map](https://www.ewatercycle.org/caravan-map/) one can easily retrieve the identifier of the catchment.\n",
    "\n",
    "What we will need for the Caravan forcing:\n",
    "1. a camels id\n",
    "2. time window for your experiment\n",
    "3. a directory to save your data\n",
    "\n",
    "We will start with one of the bigger catchments of the GB-CAMELS dataset.\n",
    "After we import the modules."
   ],
   "id": "8fdc17152dd8e112"
  },
  {
   "metadata": {},
   "cell_type": "code",
   "outputs": [],
   "execution_count": null,
   "source": [
    "# General python\n",
    "import warnings\n",
    "warnings.filterwarnings(\"ignore\", category=UserWarning)\n",
    "\n",
    "import numpy as np\n",
    "from pathlib import Path\n",
    "import pandas as pd\n",
    "import matplotlib.pyplot as plt\n",
    "import xarray as xr\n",
    "\n",
    "# Niceties\n",
    "from rich import print\n",
    "\n",
    "# General eWaterCycle\n",
    "import ewatercycle\n",
    "import ewatercycle.models\n",
    "import ewatercycle.forcing"
   ],
   "id": "891f3300e792420c"
  },
  {
   "metadata": {},
   "cell_type": "code",
   "outputs": [],
   "execution_count": null,
   "source": "camels_id = \"camelsgb_33039\"  # river: Bedford Ouse at Roxton, England",
   "id": "7d9d0143992f2e15"
  },
  {
   "metadata": {},
   "cell_type": "markdown",
   "source": "Now lets specify the start and end date:",
   "id": "f04fb3b64f3c0f91"
  },
  {
   "metadata": {},
   "cell_type": "code",
   "outputs": [],
   "execution_count": null,
   "source": [
    "experiment_start_date = \"2000-08-01T00:00:00Z\"\n",
    "experiment_end_date = \"2005-08-31T00:00:00Z\""
   ],
   "id": "6a2eb57849fc976b"
  },
  {
   "metadata": {},
   "cell_type": "markdown",
   "source": [
    "Note that these are in hydrological years!\n",
    "\n",
    "Now we need to specify a path to the directory where we want to save the data.\n",
    "We recommend that you use one folder to save all your data."
   ],
   "id": "1d8d781c8f390491"
  },
  {
   "metadata": {},
   "cell_type": "code",
   "outputs": [],
   "execution_count": null,
   "source": [
    "forcing_path_caravan = Path.home() / \"forcing\" / camels_id / \"caravan\"\n",
    "forcing_path_caravan.mkdir(exist_ok=True, parents=True)"
   ],
   "id": "6217afacf9518bb8"
  },
  {
   "metadata": {},
   "cell_type": "markdown",
   "source": "Now we have everything we need to generate the Caravan forcing object:",
   "id": "ce3bb43a0774cdef"
  },
  {
   "metadata": {},
   "cell_type": "code",
   "outputs": [],
   "execution_count": null,
   "source": [
    "camels_forcing = ewatercycle.forcing.sources['CaravanForcing'].generate(\n",
    "    start_time=experiment_start_date,\n",
    "    end_time=experiment_end_date,\n",
    "    directory=forcing_path_caravan,\n",
    "    basin_id=camels_id,\n",
    ")"
   ],
   "id": "319c5adcd07f98c8"
  },
  {
   "metadata": {},
   "cell_type": "markdown",
   "source": "Now let us print it to see what it contains:",
   "id": "ceedb335cc0a385d"
  },
  {
   "metadata": {},
   "cell_type": "code",
   "outputs": [],
   "execution_count": null,
   "source": "print(camels_forcing)",
   "id": "eeabe84c2b499162"
  },
  {
   "metadata": {},
   "cell_type": "markdown",
   "source": [
    "It contains everything we gave it with also the shapefile of the camels catchment.\n",
    "It contains the (daily) forcing data for:\n",
    "1. evspsblpot: The potential evaporation\n",
    "2. Q: the discharge\n",
    "3. tas: the temperature\n",
    "4. tasmin: the minimum temperature for the day\n",
    "5. tasmax: maximum temperature for the day\n",
    "6. pr: precipitation\n",
    "\n",
    "Now if we want to load the data we run the following:"
   ],
   "id": "134630d13680d83d"
  },
  {
   "metadata": {},
   "cell_type": "code",
   "outputs": [],
   "execution_count": null,
   "source": "camels_forcing = ewatercycle.forcing.sources['CaravanForcing'].load(directory=forcing_path_caravan)",
   "id": "1ec11bd999aba079"
  }
 ],
 "metadata": {
  "kernelspec": {
   "display_name": "Python 3",
   "language": "python",
   "name": "python3"
  },
  "language_info": {
   "codemirror_mode": {
    "name": "ipython",
    "version": 2
   },
   "file_extension": ".py",
   "mimetype": "text/x-python",
   "name": "python",
   "nbconvert_exporter": "python",
   "pygments_lexer": "ipython2",
   "version": "2.7.6"
  }
 },
 "nbformat": 4,
 "nbformat_minor": 5
}
