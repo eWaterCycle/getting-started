{
 "cells": [
  {
   "metadata": {},
   "cell_type": "markdown",
   "source": [
    "# Generate CMIP Historical Forcing\n",
    "\n",
    "In this notebook we will show you how to obtain historical forcing from the CMIP6 project.\n",
    "CMIP datasets can be found [here](https://aims2.llnl.gov/nodes), sometimes their servers are unreachable :(\n",
    "CMIP has these climate scenarios based on carbon emissions, go [here](https://climate-scenarios.canada.ca/?page=cmip6-overview-notes) (or [here](https://www.dkrz.de/en/communication/climate-simulations/cmip6-en/the-ssp-scenarios)) to find out more!\n",
    "\n",
    "We are going to need multiple things again:\n",
    "- shapefile of the region of interest\n",
    "- a time-window\n",
    "- experiment: in this case 'historic'\n",
    "- dataset\n",
    "- an ensemble member\n",
    "- grid\n",
    "\n",
    "Not all CMIP climate scenarios are available on all servers.\n",
    "This means that you have to carefully choose the server, **disclaimer** that means that the datasets chosen here can also be faulty.\n",
    "The amount of ensemble members also vary, these are handy if you want to get a statistically better result.\n",
    "Grid options define how data is spatially represented—either on the model’s native grid or a regridded format (e.g., regular lat-lon). This affects data compatibility, resolution, and comparability between models.\n",
    "\n",
    "| Grid Label | Description                                | Typical Use Case                           |\n",
    "|------------|--------------------------------------------|--------------------------------------------|\n",
    "| gn         | Native grid (often irregular, model-native)| Our default, it will follow your shapefile |\n",
    "| gr         | Regular 1x1° interpolated lat-lon grid     | Commonly used for comparison & analysis    |\n",
    "| gr1        | Alternative interpolated grid (1°x1°)      | Sometimes used as standardized grid        |\n",
    "| gr025      | High-resolution grid (0.25°x0.25°)         | Fine-scale analysis, less common           |\n",
    "\n",
    "In the notebook of the future forcing of CMIP I will show you what datasets/ensembles are available at the time of writing this guide (July 2025)."
   ],
   "id": "45e9c0c92fcc9fda"
  },
  {
   "metadata": {},
   "cell_type": "code",
   "outputs": [],
   "execution_count": null,
   "source": [
    "# Ignore user warnings :)\n",
    "import warnings\n",
    "warnings.filterwarnings(\"ignore\", category=UserWarning)\n",
    "\n",
    "# Required dependencies\n",
    "from pathlib import Path\n",
    "from cartopy.io import shapereader\n",
    "import pandas as pd\n",
    "import numpy as np\n",
    "from rich import print\n",
    "import xarray as xr\n",
    "import shutil\n",
    "import matplotlib.pyplot as plt\n",
    "\n",
    "import ewatercycle\n",
    "import ewatercycle.forcing"
   ],
   "id": "595c964bc8054ff3"
  },
  {
   "metadata": {},
   "cell_type": "markdown",
   "source": "So let us start with the region and the time-window + the paths we will be using:",
   "id": "2f32b53800a9645e"
  },
  {
   "metadata": {},
   "cell_type": "code",
   "outputs": [],
   "execution_count": null,
   "source": [
    "# The name of the shapefile\n",
    "shape_file_name = \"camelsgb_33039\"  # river: Bedford Ouse at Roxton, England\n",
    "\n",
    "# The path to the shapefiles\n",
    "shapefile_path =  Path.home() / \"getting-started/book/some_content/forcing/shapefiles\" / f\"{shape_file_name}.shp\"  # check this directory yourself!\n",
    "\n",
    "# The time-window of the experiment\n",
    "experiment_start_date = \"2000-08-01T00:00:00Z\"\n",
    "experiment_end_date = \"2005-08-31T00:00:00Z\"\n",
    "\n",
    "# The path save directory of the CMIP data\n",
    "forcing_path_CMIP = Path.home() / \"forcing\" / shape_file_name / \"CMIP6\"   # we do not use historical here, so we can use this as a default save path later on\n",
    "forcing_path_CMIP.mkdir(exist_ok=True)"
   ],
   "id": "c26fde6778f5df58"
  },
  {
   "metadata": {},
   "cell_type": "markdown",
   "source": "## Gather the CMIP historical forcing",
   "id": "8bb9bf080c4b156"
  },
  {
   "metadata": {},
   "cell_type": "code",
   "outputs": [],
   "execution_count": null,
   "source": [
    "cmip_historical =  {\n",
    "   'project': 'CMIP6',\n",
    "   'exp': 'historical',\n",
    "   'dataset': 'MPI-ESM1-2-HR',\n",
    "   \"ensemble\": 'r1i1p1f1',\n",
    "   'grid': 'gn'\n",
    "}\n",
    "\n",
    "CMIP_forcing = ewatercycle.forcing.sources[\"LumpedMakkinkForcing\"].generate(\n",
    "   dataset=cmip_historical,\n",
    "   start_time=experiment_start_date,\n",
    "   end_time=experiment_end_date,\n",
    "   shape=shapefile_path,\n",
    "   directory=forcing_path_CMIP / \"historical\",\n",
    ")"
   ],
   "id": "c847b737db7b2049"
  },
  {
   "metadata": {},
   "cell_type": "markdown",
   "source": "Normally you can look at the cmip forcing now, but we will first show you how to load the data and move on from there:",
   "id": "2a186b993a46d761"
  },
  {
   "metadata": {},
   "cell_type": "code",
   "outputs": [],
   "execution_count": null,
   "source": [
    "# Load the generated historical data\n",
    "historical_CMIP_location = forcing_path_CMIP / \"historical\" / \"work\" / \"diagnostic\" / \"script\"\n",
    "historical_CMIP_forcing = ewatercycle.forcing.sources[\"LumpedMakkinkForcing\"].load(directory=historical_CMIP_location)"
   ],
   "id": "d0fe02658558b370"
  },
  {
   "metadata": {},
   "cell_type": "code",
   "outputs": [],
   "execution_count": null,
   "source": "print(historical_CMIP_forcing)",
   "id": "819520ec0795192c"
  },
  {
   "metadata": {},
   "cell_type": "markdown",
   "source": [
    "So the LumpedMakkinkForcing stores the following:\n",
    "1. pr: precipitation\n",
    "2. tas: temperature\n",
    "3. rsds: incoming shortwave radiation\n",
    "4. evspsblpot: potential evaporation (note that this is calculated, using Makking)"
   ],
   "id": "64468dc6fd4c8f5e"
  },
  {
   "metadata": {},
   "cell_type": "markdown",
   "source": [
    "## The data\n",
    "\n",
    "We can easily plot the data now!"
   ],
   "id": "5d100c3819da0b2c"
  },
  {
   "metadata": {},
   "cell_type": "code",
   "outputs": [],
   "execution_count": null,
   "source": [
    "historical_CMIP_data = {'precipitation pr': xr.open_dataset(historical_CMIP_forcing['pr']),\n",
    "             'temperature tas': xr.open_dataset(historical_CMIP_forcing['tas']),\n",
    "             'incoming_shortwave_radiation rsds': xr.open_dataset(historical_CMIP_forcing['rsds']),\n",
    "             'potential_evaporation evspsblpot': xr.open_dataset(historical_CMIP_forcing['evspsblpot'])\n",
    "}\n",
    "\n",
    "plot_counter = 1\n",
    "plt.figure(figsize=(15, 10))\n",
    "for name, data in historical_CMIP_data.items():\n",
    "    plt.subplot(2,2, plot_counter)\n",
    "    data[name.split(\" \")[-1]].plot()\n",
    "    plt.title(f\"{name.split(\" \")[0]}\")\n",
    "    plot_counter += 1\n",
    "\n",
    "plt.suptitle(\"Historical CMIP6 LumpedMakkink Data\", fontsize=20)\n",
    "plt.tight_layout()"
   ],
   "id": "816bbec0bb0f9b6f"
  }
 ],
 "metadata": {
  "kernelspec": {
   "display_name": "Python 3",
   "language": "python",
   "name": "python3"
  },
  "language_info": {
   "codemirror_mode": {
    "name": "ipython",
    "version": 2
   },
   "file_extension": ".py",
   "mimetype": "text/x-python",
   "name": "python",
   "nbconvert_exporter": "python",
   "pygments_lexer": "ipython2",
   "version": "2.7.6"
  }
 },
 "nbformat": 4,
 "nbformat_minor": 5
}
