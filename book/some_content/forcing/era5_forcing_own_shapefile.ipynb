{
 "cells": [
  {
   "metadata": {},
   "cell_type": "markdown",
   "source": [
    "# Generate ERA5 forcing\n",
    "\n",
    "This will consist of two parts in separate notebooks:\n",
    "1. using a shapefile from Caravan\n",
    "2. using your own shapefile!\n",
    "\n",
    "\n"
   ],
   "id": "778e4b83cdbb46a1"
  },
  {
   "metadata": {},
   "cell_type": "markdown",
   "source": [
    "## Using your own shapefile\n",
    "\n",
    "If you have your own shapefile, skip the first part.\n",
    "First I will guide your through making your own shapefile!"
   ],
   "id": "659e4e1a01ba12fc"
  },
  {
   "metadata": {},
   "cell_type": "markdown",
   "source": [
    "### Make your own shapefile\n",
    "\n",
    "There are several ways to make shapefiles:\n",
    "1. Make one using GIS\n",
    "2. Get the station.json from a GRDC station, which can be converted into a shapefile"
   ],
   "id": "a76791c8f95d3879"
  }
 ],
 "metadata": {
  "kernelspec": {
   "display_name": "Python 3",
   "language": "python",
   "name": "python3"
  },
  "language_info": {
   "codemirror_mode": {
    "name": "ipython",
    "version": 2
   },
   "file_extension": ".py",
   "mimetype": "text/x-python",
   "name": "python",
   "nbconvert_exporter": "python",
   "pygments_lexer": "ipython2",
   "version": "2.7.6"
  }
 },
 "nbformat": 4,
 "nbformat_minor": 5
}
