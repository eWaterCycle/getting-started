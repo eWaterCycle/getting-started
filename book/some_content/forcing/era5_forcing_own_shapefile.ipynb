{
 "cells": [
  {
   "metadata": {},
   "cell_type": "markdown",
   "source": [
    "# Generate ERA5 forcing: own shapefile\n",
    "\n",
    "This will consist of two parts in separate notebooks:\n",
    "1. using a shapefile from Caravan\n",
    "2. using your own shapefile!\n",
    "\n",
    "ERA5 need 4 different inputs:\n",
    "1. a shapefile\n",
    "2. a time-window\n",
    "3. a directory to save the data\n",
    "4. and a type of forcing\n",
    "\n",
    "\n"
   ],
   "id": "778e4b83cdbb46a1"
  },
  {
   "metadata": {},
   "cell_type": "markdown",
   "source": [
    "## Using your own shapefile\n",
    "\n",
    "If you have your own shapefile, skip the first part.\n",
    "First I will guide your through making your own shapefile!"
   ],
   "id": "659e4e1a01ba12fc"
  },
  {
   "metadata": {},
   "cell_type": "markdown",
   "source": [
    "### Make your own shapefile\n",
    "\n",
    "There are several ways to make shapefiles:\n",
    "1. Make one using GIS\n",
    "2. Get the station.json from a GRDC station, which can be [converted](https://github.com/MarkMelotto/geojson_to_shapefile) into a shapefile or multiple if you have a bigger area.\n",
    "\n",
    "You also need 5 different files:\n",
    "1. .shp\n",
    "2. .cpg\n",
    "3. .prj\n",
    "4. .dbf\n",
    "5. .shx\n",
    "\n",
    "We already have these files from the camels, but they are in a different directory now, for the purpose of this notebook"
   ],
   "id": "a76791c8f95d3879"
  },
  {
   "metadata": {},
   "cell_type": "code",
   "outputs": [],
   "execution_count": null,
   "source": [
    "# General python\n",
    "import warnings\n",
    "warnings.filterwarnings(\"ignore\", category=UserWarning)\n",
    "\n",
    "import numpy as np\n",
    "from pathlib import Path\n",
    "import pandas as pd\n",
    "import matplotlib.pyplot as plt\n",
    "import xarray as xr\n",
    "\n",
    "# Niceties\n",
    "from rich import print\n",
    "\n",
    "# General eWaterCycle\n",
    "import ewatercycle\n",
    "import ewatercycle.forcing"
   ],
   "id": "422add1ad916a5de"
  },
  {
   "metadata": {},
   "cell_type": "code",
   "outputs": [],
   "execution_count": null,
   "source": [
    "# The id of the camels region\n",
    "camels_id = \"camelsgb_33039\"  # river: Bedford Ouse at Roxton, England\n",
    "\n",
    "# The time-window of the experiment\n",
    "experiment_start_date = \"2000-08-01T00:00:00Z\"\n",
    "experiment_end_date = \"2005-08-31T00:00:00Z\"\n",
    "\n",
    "# The path save directoty of the ERA5 data\n",
    "forcing_path_ERA5 = Path.home() / \"forcing\" / camels_id / \"ERA5\" / \"own_shapefile\"\n",
    "forcing_path_ERA5.mkdir(exist_ok=True)"
   ],
   "id": "aa8a6cfc9e16bb5a"
  },
  {
   "metadata": {},
   "cell_type": "markdown",
   "source": "Now we just point to where the shapefiles are, but to the .shp file specifically.",
   "id": "b9e1bddb4f67ac02"
  },
  {
   "metadata": {},
   "cell_type": "code",
   "outputs": [],
   "execution_count": null,
   "source": [
    "# The path to the shapefiles\n",
    "shapefile_path =  Path.home() / \"getting-started/book/some_content/forcing/shapefiles\" / camels_id / \".shp\"  # check this directory yourself!"
   ],
   "id": "997303cc35120440"
  },
  {
   "metadata": {},
   "cell_type": "markdown",
   "source": [
    "## ERA5 Forcing Generation\n",
    "\n",
    "Now that we have the shapefile we can almost get the ERA5 forcing.\n",
    "But first we need to define a new path.\n",
    "And we need to pick what kind of forcing we want to generate, this depends on what model you want to use, currently these sources are supported:\n",
    "1. LumpedMakkinkForcing\n",
    "2. DistributedMakkinkForcing\n",
    "3. DistributedUserForcing\n",
    "4. GenericDistributedForcing\n",
    "5. GenericLumpedForcing\n",
    "6. HypeForcing\n",
    "7. LisfloodForcing\n",
    "8. LumpedUserForcing\n",
    "9. MarrmotForcing\n",
    "10. PCRGlobWBForcing\n",
    "11. WflowForcing\n",
    "\n",
    "More details can be found in the [documentation](https://ewatercycle.readthedocs.io/en/latest/user_guide/02_forcing.html). And also in the [models section](https://www.ewatercycle.org/getting-started/main/some_content/different_models.html).\n",
    "\n",
    "For now we will use 'lumped Makkink forcing', this is needed for running an HBV model."
   ],
   "id": "8eee667502239470"
  },
  {
   "metadata": {},
   "cell_type": "code",
   "outputs": [],
   "execution_count": null,
   "source": [
    "ERA5_forcing = ewatercycle.forcing.sources[\"LumpedMakkinkForcing\"].generate(\n",
    "   dataset=\"ERA5\",\n",
    "   start_time=experiment_start_date,\n",
    "   end_time=experiment_end_date,\n",
    "   shape=shapefile_path,\n",
    "   directory=forcing_path_ERA5,\n",
    ")"
   ],
   "id": "1d9b7724d080e29b"
  },
  {
   "metadata": {},
   "cell_type": "code",
   "outputs": [],
   "execution_count": null,
   "source": "print(ERA5_forcing)",
   "id": "9408cf855343ad6"
  },
  {
   "metadata": {},
   "cell_type": "markdown",
   "source": [
    "So the LumpedMakkinkForcing stores the following:\n",
    "1. pr: precipitation\n",
    "2. tas: temperature\n",
    "3. rsds: incoming shortwave radiation\n",
    "4. evspsblpot: potential evaporation (note that this is calculated, using Makking)"
   ],
   "id": "9ba5545c1971ba69"
  },
  {
   "metadata": {},
   "cell_type": "markdown",
   "source": "We can also load the forcing data after we have generated it:",
   "id": "723be4111a45457c"
  },
  {
   "metadata": {},
   "cell_type": "code",
   "outputs": [],
   "execution_count": null,
   "source": [
    "load_location = forcing_path_ERA5 / \"work\" / \"diagnostic\" / \"script\"  # this is needed because the data is stored in a sub-directory\n",
    "ERA5_forcing = ewatercycle.forcing.sources[\"LumpedMakkinkForcing\"].load(directory=load_location)"
   ],
   "id": "e7a08566e2fb2bd9"
  },
  {
   "metadata": {},
   "cell_type": "code",
   "outputs": [],
   "execution_count": null,
   "source": "print(ERA5_forcing)",
   "id": "c863ead092f22a91"
  },
  {
   "metadata": {},
   "cell_type": "markdown",
   "source": [
    "## The data\n",
    "\n",
    "We can easily plot the data now!"
   ],
   "id": "c567799fc52c0a5a"
  },
  {
   "metadata": {},
   "cell_type": "code",
   "outputs": [],
   "execution_count": null,
   "source": [
    "ERA5_data = {'precipitation pr': xr.open_dataset(ERA5_forcing['pr']),\n",
    "             'temperature tas': xr.open_dataset(ERA5_forcing['tas']),\n",
    "             'incoming_shortwave_radiation rsds': xr.open_dataset(ERA5_forcing['rsds']),\n",
    "             'potential_evaporation evspsblpot': xr.open_dataset(ERA5_forcing['evspsblpot'])\n",
    "}\n",
    "\n",
    "plot_counter = 1\n",
    "plt.figure(figsize=(15, 10))\n",
    "for name, data in ERA5_data.items():\n",
    "    plt.subplot(2,2, plot_counter)\n",
    "    data[name.split(\" \")[-1]].plot()\n",
    "    plt.title(f\"{name.split(\" \")[0]}\")\n",
    "    plot_counter+=1\n",
    "\n",
    "plt.suptitle(\"ERA5 LumpedMakkink Data\", fontsize=20)\n",
    "plt.tight_layout()"
   ],
   "id": "d877477e9fc3a1e6"
  }
 ],
 "metadata": {
  "kernelspec": {
   "display_name": "Python 3",
   "language": "python",
   "name": "python3"
  },
  "language_info": {
   "codemirror_mode": {
    "name": "ipython",
    "version": 2
   },
   "file_extension": ".py",
   "mimetype": "text/x-python",
   "name": "python",
   "nbconvert_exporter": "python",
   "pygments_lexer": "ipython2",
   "version": "2.7.6"
  }
 },
 "nbformat": 4,
 "nbformat_minor": 5
}
