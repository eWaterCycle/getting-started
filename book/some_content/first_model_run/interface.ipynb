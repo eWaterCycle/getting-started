{
 "cells": [
  {
   "metadata": {},
   "cell_type": "markdown",
   "source": [
    "# Interface\n",
    "\n",
    "This is what the interface looks like.\n",
    "This notebook will have some code cells, but mostly pseudo-code to illustrate the interface."
   ],
   "id": "dc56c56ed744a678"
  },
  {
   "metadata": {},
   "cell_type": "markdown",
   "source": [
    "## Importing modules\n",
    "\n",
    "As any notebook we will start with importing the necessary modules.\n",
    "**BUT** we will also import the eWaterCycle modules."
   ],
   "id": "67d568642a5e491"
  },
  {
   "metadata": {},
   "cell_type": "code",
   "outputs": [],
   "execution_count": null,
   "source": [
    "# importing modules\n",
    "\n",
    "import ewatercycle\n",
    "import ewatercycle.model\n",
    "import ewatercycle.forcing"
   ],
   "id": "164b5ccb37747bc7"
  },
  {
   "metadata": {},
   "cell_type": "markdown",
   "source": "",
   "id": "8189f745ef548a0e"
  }
 ],
 "metadata": {
  "kernelspec": {
   "display_name": "Python 3",
   "language": "python",
   "name": "python3"
  },
  "language_info": {
   "codemirror_mode": {
    "name": "ipython",
    "version": 2
   },
   "file_extension": ".py",
   "mimetype": "text/x-python",
   "name": "python",
   "nbconvert_exporter": "python",
   "pygments_lexer": "ipython2",
   "version": "2.7.6"
  }
 },
 "nbformat": 4,
 "nbformat_minor": 5
}
