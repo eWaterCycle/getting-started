{
 "cells": [
  {
   "metadata": {},
   "cell_type": "markdown",
   "source": [
    "# Interface\n",
    "\n",
    "Once you have logged in on the eWaterCycle machine, this is what the interface looks like.\n",
    "This notebook will have some code cells, but mostly pseudo-code to illustrate the interface."
   ],
   "id": "dc56c56ed744a678"
  },
  {
   "metadata": {},
   "cell_type": "markdown",
   "source": [
    "## Importing modules\n",
    "\n",
    "As any notebook we will start with importing the necessary modules.\n",
    "**BUT** we will also import the eWaterCycle modules."
   ],
   "id": "67d568642a5e491"
  },
  {
   "metadata": {},
   "cell_type": "code",
   "outputs": [],
   "execution_count": null,
   "source": [
    "# importing modules\n",
    "\n",
    "import ewatercycle\n",
    "import ewatercycle.model\n",
    "import ewatercycle.forcing"
   ],
   "id": "164b5ccb37747bc7"
  },
  {
   "metadata": {},
   "cell_type": "markdown",
   "source": [
    "Now that we imported the eWaterCycle modules, we can use them to create a model run.\n",
    "Which will usually look something like this in the basic form:"
   ],
   "id": "8189f745ef548a0e"
  },
  {
   "metadata": {},
   "cell_type": "markdown",
   "source": [
    "## Choosing a region and getting the correct forcing data.\n",
    "\n",
    "This bit is very specific to the model and the region.\n",
    "There are multiple ways to get the forcing data, here we will use the [Caravan dataset](https://www.ewatercycle.org/caravan-map/).\n",
    "This dataset has discharge data as well as the shapefile of the region.\n",
    "We can use this to validate our model."
   ],
   "id": "212b9cfa28bd8857"
  },
  {
   "metadata": {},
   "cell_type": "code",
   "outputs": [],
   "execution_count": null,
   "source": [
    "region = \"camels_id\"\n",
    "\n",
    "start_date = \"2000-11-01T00:00:00Z\"\n",
    "end_date = \"2005-11-30T00:00:00Z\""
   ],
   "id": "111519a2b9e75688"
  },
  {
   "metadata": {},
   "cell_type": "markdown",
   "source": [
    "Of course, we also need to set a start time and an end time of the experiment.\n",
    "\n",
    "Now we can get the forcing data."
   ],
   "id": "f97c471506836fdc"
  },
  {
   "metadata": {},
   "cell_type": "code",
   "outputs": [],
   "execution_count": null,
   "source": [
    "camels_forcing = ewatercycle.forcing.sources['CaravanForcing'].generate(\n",
    "    start_time=start_date,\n",
    "    end_time=end_date,\n",
    "    directory=\"A directory to store the forcing data\",\n",
    "    basin_id=region,\n",
    ")"
   ],
   "id": "f9b47ca3724554f4"
  },
  {
   "metadata": {},
   "cell_type": "markdown",
   "source": [
    "\n",
    "\n",
    "The different forcings we can generate are as follows:\n",
    "- Caravan forcing data\n",
    "- ERA5 forcing data\n",
    "- CMIP6 forcing data\n",
    "\n",
    "More details about the forcing data can be found [here](https://www.ewatercycle.org/getting-started/main/some_content/generate_forcing.html)."
   ],
   "id": "32b89f38a42a78cd"
  },
  {
   "metadata": {},
   "cell_type": "markdown",
   "source": [
    "# Model Run\n",
    "\n",
    "Now that we have the forcing data, we can create a model run.\n",
    "Models are objects and need a setup and initialization.\n",
    "More details will follow after this notebook in the first model run notebook."
   ],
   "id": "5c4c94c2370d8e71"
  },
  {
   "metadata": {},
   "cell_type": "code",
   "outputs": [],
   "execution_count": null,
   "source": "model = ewatercycle.models.HBV(forcing=camels_forcing)",
   "id": "62941158d6b2c1ab"
  },
  {
   "metadata": {},
   "cell_type": "markdown",
   "source": [
    "So in this case it is the HBV model, but it could be any model that is available in eWaterCycle.\n",
    "We also give it the forcing data we just generated.\n",
    "\n",
    "The model can be set up with the following parameters:"
   ],
   "id": "27682f351b62607f"
  },
  {
   "metadata": {},
   "cell_type": "code",
   "outputs": [],
   "execution_count": null,
   "source": [
    "par_0 = \"some parameters\"\n",
    "s_0 = \"some initial conditions\"\n",
    "config_file, _ = model.setup(parameters=par_0, initial_storage=s_0)"
   ],
   "id": "d723dc7c4e5c5eab"
  },
  {
   "metadata": {},
   "cell_type": "markdown",
   "source": [
    "This setup is model dependent. And again here it is mostly pseudo-code.\n",
    "\n",
    "Now we can initialize the model.\n",
    "This will start a container (see [what](https://www.ewatercycle.org/getting-started/main/some_content/why/what.html) for more info on containers) on the SURF super computer with the model and the forcing data."
   ],
   "id": "944bc50e5722451d"
  },
  {
   "metadata": {},
   "cell_type": "code",
   "outputs": [],
   "execution_count": null,
   "source": "model.initialize(config_file)",
   "id": "123f63ecaa484db1"
  },
  {
   "metadata": {},
   "cell_type": "markdown",
   "source": [
    "Now that the container is running, we can run the model.\n",
    "This all happens through grpc4bmi."
   ],
   "id": "c8030187dc1544b8"
  },
  {
   "metadata": {},
   "cell_type": "code",
   "outputs": [],
   "execution_count": null,
   "source": [
    "discharge_list = []\n",
    "time_list = []\n",
    "while model.time < model.end_time:\n",
    "    model.update()\n",
    "    discharge_list.append(model.get_value(\"Q\")[0])\n",
    "    time_list.append(pd.Timestamp(model.time_as_datetime))\n",
    "\n",
    "model.finalize()"
   ],
   "id": "4cb46ec15eb18a1c"
  },
  {
   "metadata": {},
   "cell_type": "markdown",
   "source": [
    "This is the model run.\n",
    "We can get the discharge values and the time values from the model.\n",
    "This can be used later for validation or analysis.\n",
    "\n",
    "We end the model run with a `finalize` call.\n",
    "This will stop the container and clean up the resources.\n",
    "If this is not done, the container will keep running and consume resources.\n",
    "After a while it will automatically stop, but it is better to do it explicitly."
   ],
   "id": "f0f7032c96964281"
  }
 ],
 "metadata": {
  "kernelspec": {
   "display_name": "Python 3",
   "language": "python",
   "name": "python3"
  },
  "language_info": {
   "codemirror_mode": {
    "name": "ipython",
    "version": 2
   },
   "file_extension": ".py",
   "mimetype": "text/x-python",
   "name": "python",
   "nbconvert_exporter": "python",
   "pygments_lexer": "ipython2",
   "version": "2.7.6"
  }
 },
 "nbformat": 4,
 "nbformat_minor": 5
}
