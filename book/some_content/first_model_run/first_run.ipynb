{
 "cells": [
  {
   "metadata": {},
   "cell_type": "markdown",
   "source": "# Hello World: First Model Run",
   "id": "3d1e5b0ff29bc325"
  },
  {
   "metadata": {},
   "cell_type": "markdown",
   "source": [
    "Here we will choose a region, get the forcing data, and run a model.\n",
    "We will be using the Caravan forcing data and the [HBV model](https://hess.copernicus.org/articles/26/1371/2022/).\n",
    "Mainly because these are the easiest to use and understand.\n",
    "More details of the HBV model and how to use it in eWaterCycle can be found [here](https://www.ewatercycle.org/getting-started/main/some_content/different_models.html).\n",
    "\n",
    "A model needs 3 things to run:\n",
    "1. A region (or basin) to run the model on.\n",
    "2. A time window to run the model on.\n",
    "3. Forcing data for the model to use (+ parameters (set)).\n",
    "\n",
    "Again we are starting with the imports:"
   ],
   "id": "cbe2bbd57565875d"
  },
  {
   "metadata": {},
   "cell_type": "code",
   "outputs": [],
   "execution_count": null,
   "source": [
    "# General python\n",
    "import warnings\n",
    "warnings.filterwarnings(\"ignore\", category=UserWarning)\n",
    "\n",
    "import numpy as np\n",
    "from pathlib import Path\n",
    "import pandas as pd\n",
    "import matplotlib.pyplot as plt\n",
    "import xarray as xr\n",
    "\n",
    "# Niceties\n",
    "from rich import print\n",
    "\n",
    "# General eWaterCycle modules\n",
    "import ewatercycle\n",
    "import ewatercycle.models\n",
    "import ewatercycle.forcing"
   ],
   "id": "6889cf7e794dc0f2"
  },
  {
   "metadata": {},
   "cell_type": "markdown",
   "source": [
    "The HBV model is a lumped hydrological model. It considers a catchment as a homogeneous area and calculates the major hydrological processes in it.\n",
    "It requires spatially aggregated rainfall and potential evaporation as inputs (ie. forcings).\n",
    "To calculate its modelled discharge at the outlet of the catchment it also needs a set of parameters.\n",
    "Usually these parameters are calibrated using (historical) observational data, so this is also required.\n",
    "in eWaterCycle we provide access to the Caravan dataset, which contains all of the above data for all the catchments in the different Camels datasets.\n",
    "Again, the [Caravan dataset](https://www.nature.com/articles/s41597-023-01975-w) is not the only dataset available in eWaterCycle, but it is the easiest to use and understand for a first model run.\n",
    "There is a known problem with the caravan evaporation data, so this is not the best dataset to use for this model.\n",
    "Using the interactive maps at [eWaterCycle caravan map](https://www.ewatercycle.org/caravan-map/) one can easily retrieve the identifier of the catchment.\n",
    "Note that changing the region below will work, but that the parameters for the calibration will need to be changed as well."
   ],
   "id": "3b112e9b5aaf875f"
  },
  {
   "metadata": {},
   "cell_type": "markdown",
   "source": "So let's start with the region we want to run the model on.",
   "id": "329a37090d1cf379"
  },
  {
   "metadata": {},
   "cell_type": "code",
   "outputs": [],
   "execution_count": null,
   "source": "camels_id = \"camelsgb_73010\"",
   "id": "b0746a6c8cb569f5"
  },
  {
   "metadata": {},
   "cell_type": "markdown",
   "source": "Now we set the time window we want to run the model on.",
   "id": "7e461e86657ffee4"
  },
  {
   "metadata": {},
   "cell_type": "code",
   "outputs": [],
   "execution_count": null,
   "source": [
    "experiment_start_date = \"2000-08-01T00:00:00Z\"\n",
    "experiment_end_date = \"2005-08-31T00:00:00Z\""
   ],
   "id": "a1292c50fb0329df"
  },
  {
   "metadata": {},
   "cell_type": "markdown",
   "source": [
    "## Setting up the forcing data\n",
    "\n",
    "We start with creating a directory to store the forcing data."
   ],
   "id": "f09714a10596b39b"
  },
  {
   "metadata": {},
   "cell_type": "code",
   "outputs": [],
   "execution_count": null,
   "source": [
    "forcing_path_caravan = Path.home() / \"forcing\" / camels_id / \"caravan\"\n",
    "forcing_path_caravan.mkdir(exist_ok=True, parents=True)"
   ],
   "id": "6f4a4703eed5b91e"
  },
  {
   "metadata": {},
   "cell_type": "markdown",
   "source": "We will create a caravan forcing object. The eWaterCycle module takes care of the details of the Caravan dataset.",
   "id": "1e493ff35caebf4e"
  },
  {
   "metadata": {},
   "cell_type": "code",
   "outputs": [],
   "execution_count": null,
   "source": [
    "# Generate forcing data\n",
    "\n",
    "camels_forcing = ewatercycle.forcing.sources['CaravanForcing'].generate(\n",
    "    start_time=experiment_start_date,\n",
    "    end_time=experiment_end_date,\n",
    "    directory=forcing_path_caravan,\n",
    "    basin_id=camels_id,\n",
    ")"
   ],
   "id": "2d024b7b60c73021"
  },
  {
   "metadata": {},
   "cell_type": "markdown",
   "source": [
    "**Important NOTE**\n",
    "We suggest that when you work with eWaterCycle yourself, you create different notebooks for generating the forcing data and running the model.\n",
    "\n",
    "Now we can also load the forcing data:"
   ],
   "id": "55259f85522f75ea"
  },
  {
   "metadata": {},
   "cell_type": "code",
   "outputs": [],
   "execution_count": null,
   "source": [
    "# Loading the forcing data\n",
    "\n",
    "camels_forcing = ewatercycle.forcing.sources['CaravanForcing'].load(directory=forcing_path_caravan)"
   ],
   "id": "3df5f49492e4c73f"
  },
  {
   "metadata": {},
   "cell_type": "markdown",
   "source": [
    "## Setting up the model\n",
    "\n",
    "Now that we have the forcing data, we can create a model run.\n",
    "For the HBV model, we need to set up the parameters and the initial conditions.\n",
    "For more details about calibration, please look at this [section](https://www.ewatercycle.org/getting-started/main/some_content/workflows/calibrating_models.html).\n",
    "\n",
    "For now we have some optimized parameters for a specific research question and initial conditions for this specific region.\n",
    "For the initial conditions for the storages we can specify an array of starting values.\n",
    "If you don’t the model will start ‘empty’ and needs some timesteps to ‘fill up’.\n",
    "Especially for the rootzone storage it helps to not start empty. Note that all units are in mm."
   ],
   "id": "1eb8f4bbc6743d10"
  },
  {
   "metadata": {},
   "cell_type": "code",
   "outputs": [],
   "execution_count": null,
   "source": [
    "parameter_set =  [\n",
    "    7.085,  # Imax\n",
    "    0.837,  # Ce\n",
    "    76.373, # Sumax\n",
    "    1.112,  # Beta\n",
    "    0.245,  # Pmax\n",
    "    7.801,  # Tlag\n",
    "    0.096,  # Kf\n",
    "    0.003,  # Ks\n",
    "    0.226   # FM\n",
    "]\n",
    "\n",
    "initial_conditions = np.array([\n",
    "    0,      # Si\n",
    "    100,    # Su\n",
    "    0,      # Sf\n",
    "    5,      # Ss\n",
    "    0       # Sp\n",
    "])"
   ],
   "id": "9ea421498e1364b7"
  },
  {
   "metadata": {},
   "cell_type": "markdown",
   "source": [
    "Now that we have the forcing data and the parameters, we can create this specific HBV model object.\n",
    "\n",
    "The setup needs 3 different steps:\n",
    "1. Creating a model object, an instance of the specific model class. This is provided by the different plugins. At the point of creation, the forcing object that will be used need to be passed to the model\n",
    "2. Creating a configuration file that contains all the information the model needs to initialize itself. The format of the configuration file is **very model specific**. For example, the HBV configuration file contains information on the location of forcing files and the values of parameters and initial storages.\n",
    "3. Initializing starts the model container, creates all variables, and basically gets the model primed to start running."
   ],
   "id": "765935c674798e36"
  },
  {
   "metadata": {},
   "cell_type": "code",
   "outputs": [],
   "execution_count": null,
   "source": "model = ewatercycle.models.HBV(forcing=camels_forcing)",
   "id": "86f02c26dd1b772a"
  },
  {
   "metadata": {},
   "cell_type": "code",
   "outputs": [],
   "execution_count": null,
   "source": "config_file, _ = model.setup(parameters=parameter_set, initial_storage=initial_conditions)",
   "id": "58afcab4814f9141"
  },
  {
   "metadata": {},
   "cell_type": "code",
   "outputs": [],
   "execution_count": null,
   "source": "model.initialize(config_file)",
   "id": "d136e46d0678d566"
  },
  {
   "metadata": {},
   "cell_type": "markdown",
   "source": [
    "## Running the model\n",
    "\n",
    "The basic loop that runs the model calls the `model.update()` to have the model progress one timestep and `model.get_value()` to extract information of interest. More complex experiment can interact with the model using, for example, `model.set_value()` to change values. In this way\n",
    "- multiple models can interact (including be coupled)\n",
    "- models can be adjusted during runtime to incoming observations (ie. data assimilation)\n",
    "- Effects not covered by the model can be calculated separately and included to create ‘what if’ experiments.\n",
    "- and many more applications."
   ],
   "id": "bd7c79850dae29f4"
  },
  {
   "metadata": {},
   "cell_type": "code",
   "outputs": [],
   "execution_count": null,
   "source": [
    "discharge_list = []\n",
    "time = []\n",
    "while model.time < model.end_time:\n",
    "    model.update()\n",
    "    discharge_list.append(model.get_value(\"Q\")[0])\n",
    "    time.append(pd.Timestamp(model.time_as_datetime))\n",
    "\n",
    "model.finalize()"
   ],
   "id": "8bc8647c63905b04"
  },
  {
   "metadata": {},
   "cell_type": "markdown",
   "source": "After running the model we need to call model.finalize() to shut everything down, including the container. If we don’t do this, the container will continue to be active, eating up system memory.",
   "id": "44c884c22a12c498"
  },
  {
   "metadata": {},
   "cell_type": "markdown",
   "source": [
    "## Plotting the results\n",
    "\n",
    "Finally, we use standard python libraries to visualize the results. We put the model output into a pandas Series to make plotting easier.\n",
    "\n"
   ],
   "id": "ed9634f22ef1a09a"
  },
  {
   "metadata": {},
   "cell_type": "code",
   "outputs": [],
   "execution_count": null,
   "source": [
    "model_output = pd.Series(data=discharge_list, name=\"Modelled_discharge\", index=time)\n",
    "ds_forcing = xr.open_dataset(camels_forcing['Q'])"
   ],
   "id": "a505ebc830bd706c"
  },
  {
   "metadata": {},
   "cell_type": "code",
   "outputs": [],
   "execution_count": null,
   "source": [
    "model_output.plot()\n",
    "ds_forcing[\"Q\"].plot(label=\"Observed discharge\")\n",
    "plt.legend()\n",
    "plt.ylabel(\"Discharge (mm/d)\")"
   ],
   "id": "cf27c3222a012e10"
  },
  {
   "metadata": {},
   "cell_type": "markdown",
   "source": "### Saving the results",
   "id": "4477d07c9cd92017"
  },
  {
   "metadata": {},
   "cell_type": "code",
   "outputs": [],
   "execution_count": null,
   "source": [
    "# We want to also be able to use the output of this model run in different analyses. Therefore, we save it as a NetCDF file\n",
    "xr_model_output = model_output.to_xarray()\n",
    "\n",
    "xr_model_output.attrs['units'] = 'mm/d'\n",
    "\n",
    "# Save the xarray Dataset to a NetCDF file\n",
    "xr_model_output.to_netcdf(forcing_path_caravan / 'results' / 'modelled_river_discharge_data.nc')"
   ],
   "id": "c8957cf661123f99"
  }
 ],
 "metadata": {
  "kernelspec": {
   "display_name": "Python 3",
   "language": "python",
   "name": "python3"
  },
  "language_info": {
   "codemirror_mode": {
    "name": "ipython",
    "version": 2
   },
   "file_extension": ".py",
   "mimetype": "text/x-python",
   "name": "python",
   "nbconvert_exporter": "python",
   "pygments_lexer": "ipython2",
   "version": "2.7.6"
  }
 },
 "nbformat": 4,
 "nbformat_minor": 5
}
